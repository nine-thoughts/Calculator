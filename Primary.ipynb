{
 "cells": [
  {
   "cell_type": "code",
   "execution_count": 1,
   "id": "7495744c-c708-4147-b1ab-0874a31e0f56",
   "metadata": {},
   "outputs": [],
   "source": [
    "def validate(arg):\n",
    "    # This function validates the user's input as being a valid input\n",
    "    \n",
    "    is_valid = True\n",
    "    arg = arg.replace(\" \", \"\")\n",
    "    arg = arg.lower()\n",
    "    allowed_txt = \"0123456789^()*/+-e.%\"  # All allowed mathematical characters\n",
    "    trig_functions = [\"sin\", \"cos\", \"tan\", \"cot\", \"sec\", \"csc\"]  # All basic trig functions\n",
    "    inverse_trig_functions = [\"arcsin\", \"arccos\", \"arctan\", \"arcsec\", \"arccsc\", \"arccot\"]  # All complex trig functions\n",
    "    \n",
    "    i = 0  # Counter variable\n",
    "    \n",
    "    while i < len(arg):\n",
    "        # Check if it matches any trigonometric function\n",
    "        matched = False\n",
    "        for func in trig_functions + inverse_trig_functions:\n",
    "            if arg[i:i+len(func)] == func and i + len(func) < len(arg) and arg[i+len(func)] == \"(\":\n",
    "                i += len(func)  # Skip the matched function\n",
    "                matched = True\n",
    "                break  # Exit the loop once a match is found\n",
    "        \n",
    "        if not matched:\n",
    "            if arg[i] in allowed_txt:\n",
    "                i += 1  # Proceed to the next character if valid\n",
    "            else:\n",
    "                is_valid = False\n",
    "                break  # Stop and return false when something is not valid\n",
    "    \n",
    "    return is_valid"
   ]
  },
  {
   "cell_type": "code",
   "execution_count": 2,
   "id": "200a55b0-fa55-409e-a5e0-15cb827a30c1",
   "metadata": {},
   "outputs": [
    {
     "name": "stdout",
     "output_type": "stream",
     "text": [
      "Error: Factorial must be a whole number\n"
     ]
    }
   ],
   "source": [
    "def factorial(a):\n",
    "    # This function computes the factorial value of a\n",
    "    \n",
    "    ans = 1\n",
    "    \n",
    "    if a == int(a):\n",
    "        \n",
    "        if a == 0 or a == 1:\n",
    "            return 1\n",
    "        else:\n",
    "            ans = a * factorial(a - 1)\n",
    "            return ans\n",
    "\n",
    "    else:\n",
    "        return \"Error: Factorial must be a whole number\"\n",
    "\n",
    "\n",
    "print(factorial(5.1))\n"
   ]
  },
  {
   "cell_type": "code",
   "execution_count": 3,
   "id": "76c08603-b3ee-4bea-a432-e9362d14f43a",
   "metadata": {},
   "outputs": [],
   "source": [
    "import re\n",
    "import math\n",
    "# A new function to compute factorials and replace them\n",
    "def replace_factorial(match):\n",
    "    expression = match.group(1)\n",
    "    try:\n",
    "        ans = eval(expression)\n",
    "        if isinstance(ans, int) or (isinstance(ans, float) and ans.is_integer()):\n",
    "            return str(factorial(int(ans)))\n",
    "        else:\n",
    "            return \"Error: Factorials must be an integer value\"\n",
    "    except Exception as e:\n",
    "        return f\"Invalid expression inside factorial: {e}\""
   ]
  },
  {
   "cell_type": "code",
   "execution_count": 4,
   "id": "43405371-dee7-4646-a7d8-ea7ac44a267c",
   "metadata": {},
   "outputs": [],
   "source": [
    "import re\n",
    "import math\n",
    "import dis\n",
    "import calc\n",
    "import matrix\n",
    "\n",
    "def mainpage():\n",
    "    # Broad loop to keep the calculator running throughout its usage\n",
    "    exit_flag = True\n",
    "    while exit_flag:\n",
    "        print(\"Welcome!\") \n",
    "        print('Type \"help\" to access a page detailing the functions available')\n",
    "        print('Type \"code\" for a page of codes to access higher level functions')\n",
    "        print('To exit this program at any time, type \"exit\"')\n",
    "       \n",
    "        arg = input()\n",
    "    \n",
    "        arg = arg.replace(\" \", \"\").lower()\n",
    "    \n",
    "        # Any input of 'Exit\" ends the loop\n",
    "        if arg == \"exit\":\n",
    "            print(\"Exiting the program\")\n",
    "            exit_flag = False\n",
    "            break\n",
    "\n",
    "        elif arg == \"mtx\":\n",
    "            matrix.matrix_page()\n",
    "            \n",
    "        elif arg == \"cal\":\n",
    "            calc.calculus_page()\n",
    "\n",
    "        elif arg == \"alg\":\n",
    "            print(\"Performing Algebraic Functions\")\n",
    "            break\n",
    "\n",
    "        elif arg == \"sts\":\n",
    "            print(\"Performing Statistics Functions\")\n",
    "            break\n",
    "        \n",
    "        elif arg == \"dis\":\n",
    "            dis.stat_distribution_page()\n",
    "    \n",
    "        # If the input is valid, continue\n",
    "        elif validate(arg) is True:\n",
    "            # Two replacement functions to compute and replace factorial components\n",
    "            arg = re.sub(r'\\((.*?)\\)!', replace_factorial, arg) \n",
    "            arg = re.sub(r'(\\d+(\\.\\d+)?)!', replace_factorial, arg)\n",
    "    \n",
    "            # Replace ^ with ** to do exponentials\n",
    "            # Continue with our evaluations\n",
    "            try:\n",
    "                result = (eval(arg.replace('^', '**')))\n",
    "                print(result)\n",
    "            except:\n",
    "                print('Invalid Expression. Try Again or type \"exit\" to quit')\n",
    "        else:\n",
    "            print('Invalid Expression. Try Again or type \"exit\" to quit')"
   ]
  },
  {
   "cell_type": "code",
   "execution_count": 5,
   "id": "431b057d-435b-4ddc-b3dc-b3d5e28a8ddc",
   "metadata": {},
   "outputs": [
    {
     "name": "stdout",
     "output_type": "stream",
     "text": [
      "Welcome!\n",
      "Type \"help\" to access a page detailing the functions available\n",
      "Type \"code\" for a page of codes to access higher level functions\n",
      "To exit this program at any time, type \"exit\"\n"
     ]
    },
    {
     "name": "stdin",
     "output_type": "stream",
     "text": [
      " cal\n"
     ]
    },
    {
     "name": "stdout",
     "output_type": "stream",
     "text": [
      "Welcome to the Calculus Page\n",
      "You can type \"exit\" to quit to main page or \"help\" for the list of usable codes\n"
     ]
    },
    {
     "name": "stdin",
     "output_type": "stream",
     "text": [
      " exit\n"
     ]
    },
    {
     "name": "stdout",
     "output_type": "stream",
     "text": [
      "Returning to mainpage\n",
      "Welcome!\n",
      "Type \"help\" to access a page detailing the functions available\n",
      "Type \"code\" for a page of codes to access higher level functions\n",
      "To exit this program at any time, type \"exit\"\n"
     ]
    },
    {
     "name": "stdin",
     "output_type": "stream",
     "text": [
      " exit\n"
     ]
    },
    {
     "name": "stdout",
     "output_type": "stream",
     "text": [
      "Exiting the program\n"
     ]
    }
   ],
   "source": [
    "mainpage()"
   ]
  },
  {
   "cell_type": "code",
   "execution_count": null,
   "id": "f0e56509-81f1-4c5e-82ba-d6dec35f5db2",
   "metadata": {},
   "outputs": [],
   "source": []
  }
 ],
 "metadata": {
  "kernelspec": {
   "display_name": "Python 3 (ipykernel)",
   "language": "python",
   "name": "python3"
  },
  "language_info": {
   "codemirror_mode": {
    "name": "ipython",
    "version": 3
   },
   "file_extension": ".py",
   "mimetype": "text/x-python",
   "name": "python",
   "nbconvert_exporter": "python",
   "pygments_lexer": "ipython3",
   "version": "3.9.2"
  }
 },
 "nbformat": 4,
 "nbformat_minor": 5
}
