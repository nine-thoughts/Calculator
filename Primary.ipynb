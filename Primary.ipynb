{
 "cells": [
  {
   "cell_type": "code",
   "execution_count": 3,
   "id": "43405371-dee7-4646-a7d8-ea7ac44a267c",
   "metadata": {},
   "outputs": [
    {
     "name": "stdout",
     "output_type": "stream",
     "text": [
      "Welcome!\n",
      "Type \"Help\" to access a page detailing the functions available\n",
      "Type \"Code\" for a page of codes to access higher level functions\n",
      "To exit this program at any time, type \"exit\"\n"
     ]
    },
    {
     "name": "stdin",
     "output_type": "stream",
     "text": [
      " (5+1)!\n"
     ]
    },
    {
     "name": "stdout",
     "output_type": "stream",
     "text": [
      "720\n"
     ]
    },
    {
     "name": "stdin",
     "output_type": "stream",
     "text": [
      " exit\n"
     ]
    }
   ],
   "source": [
    "# This is required for our functions for factorial operations and solving\n",
    "import re\n",
    "import math\n",
    "    \n",
    "# Function to validate if the input fits the requirements \n",
    "def validate(arg):\n",
    "    is_valid = True\n",
    "    allowed_characters = \"0123456789+-/*()!^%.\"\n",
    "    for char in arg:\n",
    "        if char not in allowed_characters:\n",
    "            is_valid = False\n",
    "    return is_valid\n",
    "\n",
    "\n",
    "    \n",
    "# This function performs factorial\n",
    "def factorial(arg):\n",
    "    ans = 1\n",
    "    if isinstance(arg, int):\n",
    "        while arg > 0:\n",
    "            ans = arg * ans\n",
    "            arg = arg - 1\n",
    "        return ans\n",
    "    else:\n",
    "        return \"Error: Factorials must be an integer value\"\n",
    "\n",
    "\n",
    "    \n",
    "# A new function to compute factorials and replace them\n",
    "def replace_factorial(match):\n",
    "    expression = match.group(1)\n",
    "    try:\n",
    "        ans = eval(expression)\n",
    "        if isinstance(ans, int) or (isinstance(ans, float) and ans.is_integer()):\n",
    "            return str(factorial(int(ans)))\n",
    "        else:\n",
    "            return \"Error: Factorials must be an integer value\"\n",
    "    except Exception as e:\n",
    "        return f\"Invalid expression inside factorial: {e}\"\n",
    "\n",
    "\n",
    "# This is a list of display messages before starting\n",
    "print(\"Welcome!\") \n",
    "print('Type \"Help\" to access a page detailing the functions available')\n",
    "print('Type \"Code\" for a page of codes to access higher level functions')\n",
    "print('To exit this program at any time, type \"exit\"')\n",
    "\n",
    "# Broad loop to keep the calculator running throughout its usage\n",
    "while True:\n",
    "    \n",
    "    arg = input()\n",
    "\n",
    "    # Remove spaces from the input to prevent confusion\n",
    "    arg = arg.replace(\" \", \"\")\n",
    "\n",
    "    # Any input of 'Exit\" ends the loop\n",
    "    if arg.lower() == \"exit\":\n",
    "        break\n",
    "\n",
    "\n",
    "    \n",
    "    # If the input is valid, continue\n",
    "    if validate(arg) is True:\n",
    "        # Two replacement functions to compute and replace factorial components\n",
    "        arg = re.sub(r'\\((.*?)\\)!', replace_factorial, arg) \n",
    "        arg = re.sub(r'(\\d+(\\.\\d+)?)!', replace_factorial, arg)\n",
    "\n",
    "        # Now we replace ^ with ** to do exponentials\n",
    "        # Once they are replaced, we continue with our evaluations\n",
    "        try:\n",
    "            result = (eval(arg.replace('^', '**')))\n",
    "            print(result)\n",
    "        # If we have an issue for any reason, we have this error message\n",
    "        except:\n",
    "            print('Invalid Expression. Try Again or type \"exit\" to quit')\n",
    "    \n",
    "    # A blanket statement. If there is an invalid input, this is the same error message displayed\n",
    "    else:\n",
    "        print('Invalid Expression. Try Agaiexit\n",
    "        n or type \"exit\" to quit')"
   ]
  },
  {
   "cell_type": "code",
   "execution_count": null,
   "id": "431b057d-435b-4ddc-b3dc-b3d5e28a8ddc",
   "metadata": {},
   "outputs": [],
   "source": []
  }
 ],
 "metadata": {
  "kernelspec": {
   "display_name": "Python 3 (ipykernel)",
   "language": "python",
   "name": "python3"
  },
  "language_info": {
   "codemirror_mode": {
    "name": "ipython",
    "version": 3
   },
   "file_extension": ".py",
   "mimetype": "text/x-python",
   "name": "python",
   "nbconvert_exporter": "python",
   "pygments_lexer": "ipython3",
   "version": "3.9.2"
  }
 },
 "nbformat": 4,
 "nbformat_minor": 5
}
