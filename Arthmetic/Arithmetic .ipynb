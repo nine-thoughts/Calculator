{
 "cells": [
  {
   "cell_type": "code",
   "execution_count": 14,
   "id": "bf2cd85c",
   "metadata": {},
   "outputs": [],
   "source": [
    "import math \n",
    "\n",
    "\n",
    "class Arithmetic:\n",
    "    \n",
    "    def __init__(self):\n",
    "        pass  # No instance variables needed for now\n",
    "\n",
    "    def add(self, *numbers):\n",
    "        \"\"\"\n",
    "        Returns the sum of the given numbers.\n",
    "        \"\"\"\n",
    "        return sum(numbers)\n",
    "\n",
    "    def subtract(self, first, *others):\n",
    "        \"\"\"\n",
    "        Subtracts all subsequent numbers from the first number.\n",
    "        \"\"\"\n",
    "        return first - sum(others)\n",
    "\n",
    "    def multiply(self, *numbers):\n",
    "        \"\"\"\n",
    "        Returns the product of the given numbers.\n",
    "        \"\"\"\n",
    "        result = 1\n",
    "        for num in numbers:\n",
    "            result *= num\n",
    "        return result\n",
    "\n",
    "    def divide(self, numerator, denominator):\n",
    "        \"\"\"\n",
    "        Returns the quotient of the numerator divided by the denominator.\n",
    "        \"\"\"\n",
    "        if denominator == 0:\n",
    "            raise ValueError(\"Error: Division by zero is not allowed.\")\n",
    "        return numerator / denominator\n",
    "    \n",
    "    def exponentiate(self, base, exponent):\n",
    "        \"\"\"\n",
    "        Returns base raised to the power of exponent.\n",
    "        \"\"\"\n",
    "        return base ** exponent\n",
    "\n",
    "    def factorial(self, number):\n",
    "        \"\"\"\n",
    "        Returns the factorial of a given number.\n",
    "        \"\"\"\n",
    "        if number < 0:\n",
    "            raise ValueError(\"Error: Factorial is not defined for negative numbers.\")\n",
    "        return math.factorial(number)\n",
    "\n",
    "    def remainder(self, dividend, divisor):\n",
    "        \"\"\"\n",
    "        Returns the remainder of division.\n",
    "        \"\"\"\n",
    "        if divisor == 0:\n",
    "            raise ValueError(\"Error: Division by zero is not allowed.\")\n",
    "        return dividend % divisor"
   ]
  },
  {
   "cell_type": "code",
   "execution_count": 15,
   "id": "e6312de7",
   "metadata": {},
   "outputs": [
    {
     "name": "stdout",
     "output_type": "stream",
     "text": [
      "Addition: 10\n",
      "Subtraction: 4\n",
      "Multiplication: 24\n",
      "Division: 5.0\n",
      "Exponentiation: 8\n",
      "Factorial: 120\n",
      "Remainder: 1\n"
     ]
    }
   ],
   "source": [
    "arithmetic = Arithmetic()\n",
    "print(\"Addition:\", arithmetic.add(5, 3, 2))\n",
    "print(\"Subtraction:\", arithmetic.subtract(10, 4, 2))\n",
    "print(\"Multiplication:\", arithmetic.multiply(3, 4, 2))\n",
    "print(\"Division:\", arithmetic.divide(10, 2))\n",
    "print(\"Exponentiation:\", arithmetic.exponentiate(2, 3))\n",
    "print(\"Factorial:\", arithmetic.factorial(5))\n",
    "print(\"Remainder:\", arithmetic.remainder(10, 3))"
   ]
  },
  {
   "cell_type": "code",
   "execution_count": null,
   "id": "ebf8f8a2",
   "metadata": {},
   "outputs": [],
   "source": []
  }
 ],
 "metadata": {
  "kernelspec": {
   "display_name": "Python 3 (ipykernel)",
   "language": "python",
   "name": "python3"
  },
  "language_info": {
   "codemirror_mode": {
    "name": "ipython",
    "version": 3
   },
   "file_extension": ".py",
   "mimetype": "text/x-python",
   "name": "python",
   "nbconvert_exporter": "python",
   "pygments_lexer": "ipython3",
   "version": "3.11.1"
  }
 },
 "nbformat": 4,
 "nbformat_minor": 5
}
