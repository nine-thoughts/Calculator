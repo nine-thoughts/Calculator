{
 "cells": [
  {
   "cell_type": "code",
   "execution_count": 27,
   "id": "240e5aba-45a1-4772-8efb-0646a94a0dde",
   "metadata": {},
   "outputs": [
    {
     "name": "stdout",
     "output_type": "stream",
     "text": [
      "True\n"
     ]
    }
   ],
   "source": [
    "import re\n",
    "\n",
    "def dimension_validation(arg):\n",
    "\n",
    "    pattern = r\"^\\d+x\\d+$\"\n",
    "\n",
    "    if re.match(pattern, arg):\n",
    "        valid = True\n",
    "    else:\n",
    "        valid = False\n",
    "\n",
    "    return valid\n",
    "\n",
    "\n",
    "expression = \"3x4\"\n",
    "print(dimension_validation(expression))\n"
   ]
  },
  {
   "cell_type": "code",
   "execution_count": 28,
   "id": "65422228-327d-40ce-9015-eb784e29ad07",
   "metadata": {},
   "outputs": [],
   "source": [
    "def validate(arg):\n",
    "    # This function validates the user's input as being a valid input\n",
    "    \n",
    "    is_valid = True\n",
    "    arg = arg.replace(\" \", \"\")\n",
    "    arg = arg.lower()\n",
    "    allowed_txt = \"0123456789^()*/+-e.\"  # All allowed mathematical characters\n",
    "    trig_functions = [\"sin\", \"cos\", \"tan\", \"cot\", \"sec\", \"csc\"]  # All basic trig functions\n",
    "    inverse_trig_functions = [\"arcsin\", \"arccos\", \"arctan\", \"arcsec\", \"arccsc\", \"arccot\"]  # All complex trig functions\n",
    "    \n",
    "    i = 0  # Counter variable\n",
    "    \n",
    "    while i < len(arg):\n",
    "        # Check if it matches any trigonometric function\n",
    "        matched = False\n",
    "        for func in trig_functions + inverse_trig_functions:\n",
    "            if arg[i:i+len(func)] == func and i + len(func) < len(arg) and arg[i+len(func)] == \"(\":\n",
    "                i += len(func)  # Skip the matched function\n",
    "                matched = True\n",
    "                break  # Exit the loop once a match is found\n",
    "        \n",
    "        if not matched:\n",
    "            if arg[i] in allowed_txt:\n",
    "                i += 1  # Proceed to the next character if valid\n",
    "            else:\n",
    "                is_valid = False\n",
    "                break  # Stop and return false when something is not valid\n",
    "    \n",
    "    return is_valid"
   ]
  },
  {
   "cell_type": "code",
   "execution_count": 29,
   "id": "54be4b3d-717e-46b9-a72c-87f2eab73b49",
   "metadata": {},
   "outputs": [
    {
     "name": "stdout",
     "output_type": "stream",
     "text": [
      "math.sin(math.pi)\n",
      "1.2246467991473532e-16\n"
     ]
    }
   ],
   "source": [
    "import re\n",
    "import math\n",
    "\n",
    "def preprocess_expression(expression):\n",
    "    # This function takes an expression and does the appropriate substitions for the math module\n",
    "    \n",
    "    replacements = {\n",
    "        \"sin(\": \"math.sin(\",\n",
    "        \"cos(\": \"math.cos(\",\n",
    "        \"tan(\": \"math.tan(\",\n",
    "        \"cot(\": \"1/math.tan(\",\n",
    "        \"sec(\": \"1/math.cos(\",\n",
    "        \"csc(\": \"1/math.sin(\",\n",
    "        \"arcsin(\": \"math.asin(\",\n",
    "        \"arccos(\": \"math.acos(\",\n",
    "        \"arctan(\": \"math.atan(\",\n",
    "        \"arccot(\": \"math.pi/2 - math.atan(\",\n",
    "        \"ln(\": \"math.log(\",\n",
    "        \"log(\": \"math.log10(\",\n",
    "        \"pi\": \"math.pi\",\n",
    "        \"e\": \"math.e\",\n",
    "        \"^\": \"**\" \n",
    "    }\n",
    "\n",
    "    expression = expression.replace(\" \", \"\")\n",
    "    expression = expression.lower()\n",
    "\n",
    "    for shorthand, full_form in replacements.items():\n",
    "        expression = expression.replace(shorthand, full_form)\n",
    "\n",
    "    # Add multiplication between a number and a math function or variable\n",
    "    expression = re.sub(r'(\\d)(math\\.|[a-zA-Z])', r'\\1*\\2', expression)  # Number followed by math function or variable\n",
    "    expression = re.sub(r'(\\))(math\\.|[a-zA-Z])', r'\\1*\\2', expression)  # Closing parenthesis followed by math function or variable\n",
    "\n",
    "    # Add multiplication between a closing parenthesis and a number\n",
    "    expression = re.sub(r'(\\))(\\d)', r'\\1*\\2', expression)  # ')' followed by a number\n",
    "\n",
    "    expression = expression.replace(\"log10*(x)\", \"log10(x)\")\n",
    "    expression = expression.replace(\"xmath.\", \"x*math.\")\n",
    "\n",
    "    return expression\n",
    "\n",
    "expression = \"sin(pi)\"\n",
    "print(preprocess_expression(expression))\n",
    "print(eval(preprocess_expression(expression)))"
   ]
  },
  {
   "cell_type": "code",
   "execution_count": 30,
   "id": "338c4fb5-df9c-4574-9db0-9deddb527642",
   "metadata": {},
   "outputs": [
    {
     "name": "stdout",
     "output_type": "stream",
     "text": [
      "-2.0\n"
     ]
    }
   ],
   "source": [
    "import math\n",
    "def box_value(arg):\n",
    "    arg = preprocess_expression(arg)\n",
    "    return round(eval(arg), 15)\n",
    "\n",
    "expression = \"sin(pi) - 2\"\n",
    "print(box_value(expression))"
   ]
  },
  {
   "cell_type": "code",
   "execution_count": 31,
   "id": "26644d20-685a-4c27-96fb-122c9841dacd",
   "metadata": {},
   "outputs": [
    {
     "name": "stdout",
     "output_type": "stream",
     "text": [
      "[-2.0, 9, 10]\n"
     ]
    }
   ],
   "source": [
    "def make_matrix_row(arg):\n",
    "\n",
    "    values_list = [value for value in arg.split(\",\")]\n",
    "    simply = []\n",
    "    for num in values_list:\n",
    "        simply.append(box_value(num))\n",
    "    return(simply)\n",
    "\n",
    "expression = \"sin(pi) - 2, 9, 10\"\n",
    "\n",
    "print(make_matrix_row(expression))"
   ]
  },
  {
   "cell_type": "code",
   "execution_count": 32,
   "id": "beaa144d-d2a6-4fab-a8e5-1201e4460199",
   "metadata": {},
   "outputs": [
    {
     "name": "stdout",
     "output_type": "stream",
     "text": [
      "2\n"
     ]
    }
   ],
   "source": [
    "def get_dimension_a(arg):\n",
    "\n",
    "    dimensions = matrix_format.split(\"x\")\n",
    "    \n",
    "    a = int(dimensions[0])\n",
    "    \n",
    "    return a\n",
    "\n",
    "\n",
    "matrix_format = \"2x2\" \n",
    "print(get_dimension_a(matrix_format))"
   ]
  },
  {
   "cell_type": "code",
   "execution_count": 33,
   "id": "654f4007-fcb3-4146-b55b-13417fdb72af",
   "metadata": {},
   "outputs": [
    {
     "name": "stdout",
     "output_type": "stream",
     "text": [
      "2\n"
     ]
    }
   ],
   "source": [
    "def get_dimension_b(arg):\n",
    "\n",
    "    dimensions = matrix_format.split(\"x\")\n",
    "\n",
    "    b = int(dimensions[1])\n",
    "    \n",
    "    return b\n",
    "\n",
    "\n",
    "matrix_format = \"2x2\" \n",
    "print(get_dimension_b(matrix_format))"
   ]
  },
  {
   "cell_type": "code",
   "execution_count": 46,
   "id": "58d47674-a77c-49a3-bd95-8754c1c11d70",
   "metadata": {},
   "outputs": [
    {
     "name": "stdout",
     "output_type": "stream",
     "text": [
      "True\n",
      "2\n"
     ]
    }
   ],
   "source": [
    "def validate_matrix(arg, a, b):\n",
    "    for row in arg:\n",
    "        if len(row) != b:\n",
    "            return False  \n",
    "\n",
    "    if len(arg) != a:\n",
    "        return False\n",
    "        \n",
    "\n",
    "    return True\n",
    "\n",
    "expression = [[1, 2, 3], [2, 3, 4]]\n",
    "print(validate_matrix(expression, 2, 3))\n",
    "\n",
    "matrix = [[1, 2], [3, 4]]\n",
    "print(matrix[0][1])"
   ]
  },
  {
   "cell_type": "code",
   "execution_count": 35,
   "id": "d74ef67c-153c-4966-a42c-c27131781627",
   "metadata": {},
   "outputs": [
    {
     "name": "stdout",
     "output_type": "stream",
     "text": [
      "[[2, 4], [6, 8]]\n"
     ]
    }
   ],
   "source": [
    "def matrix_addition(matrix_1, matrix_2):\n",
    "    matrix_3 = []\n",
    "    r = 0\n",
    "    for row in matrix_1: \n",
    "        matrix_3_row = []\n",
    "        c = 0\n",
    "        for num in row:\n",
    "            matrix_3_row.append(num + matrix_2[r][c])\n",
    "            c = c + 1\n",
    "        matrix_3.append(matrix_3_row)\n",
    "        r = r + 1\n",
    "    return matrix_3\n",
    "\n",
    "matrix_1 = [[1, 2], [3, 4]]\n",
    "matrix_2 = [[1, 2], [3, 4]]\n",
    "print(matrix_addition(matrix_1, matrix_2))"
   ]
  },
  {
   "cell_type": "code",
   "execution_count": 36,
   "id": "ce18c631-5c31-4d3c-98e7-aa19081cc3d5",
   "metadata": {},
   "outputs": [
    {
     "name": "stdout",
     "output_type": "stream",
     "text": [
      "[[0, -1], [-2, 3]]\n"
     ]
    }
   ],
   "source": [
    "def matrix_subtraction(matrix_1, matrix_2):\n",
    "    matrix_3 = []\n",
    "    r = 0\n",
    "    for row in matrix_1: \n",
    "        matrix_3_row = []\n",
    "        c = 0\n",
    "        for num in row:\n",
    "            matrix_3_row.append(num - matrix_2[r][c])\n",
    "            c = c + 1\n",
    "        matrix_3.append(matrix_3_row)\n",
    "        r = r + 1\n",
    "    return matrix_3\n",
    "\n",
    "matrix_1 = [[1, 2], [3, 4]]\n",
    "matrix_2 = [[1, 3], [5, 1]]\n",
    "print(matrix_subtraction(matrix_1, matrix_2))"
   ]
  },
  {
   "cell_type": "code",
   "execution_count": 37,
   "id": "2f39b627-dc2e-467f-9356-c6ccdc8a9aa0",
   "metadata": {},
   "outputs": [],
   "source": [
    "def validate_multiplication_dimensions(a1, b1, a2, b2):\n",
    "    valid = False\n",
    "    if b1 == a2:\n",
    "        valid = True\n",
    "    return valid"
   ]
  },
  {
   "cell_type": "code",
   "execution_count": 38,
   "id": "27441798-1db7-46bc-8e1e-e986b86c12d9",
   "metadata": {},
   "outputs": [
    {
     "name": "stdout",
     "output_type": "stream",
     "text": [
      "[[11, 5], [23, 13]]\n"
     ]
    }
   ],
   "source": [
    "def matrix_multiplication(matrix_1, matrix_2):\n",
    "\n",
    "    matrix_3 = []\n",
    "    for r in range(len(matrix_1)):\n",
    "        matrix_3_row = []\n",
    "        for c in range(len(matrix_2[0])):\n",
    "            sum_product = 0\n",
    "            for k in range(len(matrix_2)): \n",
    "                sum_product += matrix_1[r][k] * matrix_2[k][c]\n",
    "            matrix_3_row.append(sum_product)\n",
    "        matrix_3.append(matrix_3_row)\n",
    "    return matrix_3\n",
    "\n",
    "matrix_1 = [[1, 2], [3, 4]]\n",
    "matrix_2 = [[1, 3], [5, 1]]\n",
    "print(matrix_multiplication(matrix_1, matrix_2))\n"
   ]
  },
  {
   "cell_type": "code",
   "execution_count": 39,
   "id": "e4f992ce-18d5-4eed-8b48-7cdac6c1dfdf",
   "metadata": {},
   "outputs": [
    {
     "name": "stdout",
     "output_type": "stream",
     "text": [
      "[[0.0, 0.0, 1.0], [-2.0, 1.0, 3.0], [3.0, -1.0, -5.0]]\n"
     ]
    }
   ],
   "source": [
    "def matrix_inverse(matrix):\n",
    "    n = len(matrix)\n",
    "    for row in matrix:\n",
    "        if len(row) != n:\n",
    "            raise ValueError(\"The matrix must be square.\")\n",
    "    \n",
    "    # Create an augmented matrix [matrix | identity]\n",
    "    augmented = [row + [1 if i == j else 0 for j in range(n)] for i, row in enumerate(matrix)]\n",
    "    \n",
    "    # Perform Gaussian elimination\n",
    "    for i in range(n):\n",
    "        # Make the pivot element 1\n",
    "        pivot = augmented[i][i]\n",
    "        if pivot == 0:\n",
    "            raise ValueError(\"The matrix is singular and cannot be inverted.\")\n",
    "        for j in range(len(augmented[i])):\n",
    "            augmented[i][j] /= pivot\n",
    "        \n",
    "        # Make other elements in column i to be 0\n",
    "        for k in range(n):\n",
    "            if k != i:\n",
    "                factor = augmented[k][i]\n",
    "                for j in range(len(augmented[k])):\n",
    "                    augmented[k][j] -= factor * augmented[i][j]\n",
    "    \n",
    "    # Extract the inverse matrix (right half of the augmented matrix)\n",
    "    inverse = [row[n:] for row in augmented]\n",
    "    \n",
    "    # Round the results to 15 decimal places\n",
    "    rounded_inverse = [[round(element, 15) for element in row] for row in inverse]\n",
    "    return rounded_inverse\n",
    "\n",
    "# Example usage\n",
    "matrix = [[2, 1, 1], [1, 3, 2], [1, 0, 0]]\n",
    "print(matrix_inverse(matrix))\n"
   ]
  },
  {
   "cell_type": "code",
   "execution_count": 40,
   "id": "88beed69-b529-4671-8896-1c058b390f8d",
   "metadata": {},
   "outputs": [
    {
     "name": "stdout",
     "output_type": "stream",
     "text": [
      "-y^3 + 6*y^2 - 5*y - 5\n",
      "1.85672267816036 + 0.e-20*I\n",
      "[6.83619428720682 - 0.e-22*I, -5.97947160904646 + 0.e-22*I, 1.00000000000000]\n",
      "-0.571201422548122 + 0.e-20*I\n",
      "[-2.18227817786161 + 0.e-29*I, 0.611076755313484 - 0.e-22*I, 1.00000000000000]\n",
      "4.71447874438776 - 0.e-20*I\n",
      "[2.34608389065479 + 0.e-22*I, 1.36839485373297 - 0.e-22*I, 1.00000000000000]\n"
     ]
    }
   ],
   "source": [
    "from sympy import symbols, Matrix, solve, N\n",
    "\n",
    "def eigen(matrix):\n",
    "    y = symbols('y')  # Using 'y' instead of lambda\n",
    "    symbolic_matrix = Matrix(matrix) - y * Matrix.eye(len(matrix))\n",
    "    char_poly = symbolic_matrix.det()\n",
    "\n",
    "    # Format polynomial with \"^\" for exponents\n",
    "    formatted_poly = str(char_poly).replace(\"**\", \"^\")\n",
    "\n",
    "    # Solve for eigenvalues and round to 15 decimals\n",
    "    eigenvalues = [N(sol, 15) for sol in solve(char_poly, y)]\n",
    "\n",
    "    # Compute and round eigenvectors\n",
    "    eigenvectors_data = Matrix(matrix).eigenvects()\n",
    "    eigenvectors = {\n",
    "        N(eigval, 15): [[N(entry, 15) for entry in eigvecs[0]]]\n",
    "        for eigval, _, eigvecs in eigenvectors_data\n",
    "    }\n",
    "\n",
    "    # Print results in requested format\n",
    "    print(formatted_poly)\n",
    "    for eigval in eigenvalues:\n",
    "        print(eigval)\n",
    "        print(eigenvectors[eigval][0])\n",
    "\n",
    "# Example usage\n",
    "matrix = [\n",
    "    [2, 1, 5],\n",
    "    [1, 3, 0],\n",
    "    [1, 1, 1]\n",
    "]\n",
    "characteristic_equation_and_eigenvectors(matrix)\n"
   ]
  },
  {
   "cell_type": "code",
   "execution_count": 48,
   "id": "386a965f-041f-407b-b202-e5a22189a5f5",
   "metadata": {},
   "outputs": [
    {
     "name": "stdout",
     "output_type": "stream",
     "text": [
      "Input code: \n"
     ]
    },
    {
     "name": "stdin",
     "output_type": "stream",
     "text": [
      " mad\n"
     ]
    },
    {
     "name": "stdout",
     "output_type": "stream",
     "text": [
      "Performing matrix addition. Type \"exit\" at any time to quit\n",
      "Input dimensions of the matricies in 'x' format (Ex: 2x3)\n"
     ]
    },
    {
     "name": "stdin",
     "output_type": "stream",
     "text": [
      " 2x2\n"
     ]
    },
    {
     "name": "stdout",
     "output_type": "stream",
     "text": [
      "Input each row of values, separating each value with commas (Ex: 1, 2, 3, 4)\n"
     ]
    },
    {
     "name": "stdin",
     "output_type": "stream",
     "text": [
      " 1, 2\n",
      " 1, 2\n"
     ]
    },
    {
     "name": "stdout",
     "output_type": "stream",
     "text": [
      "Input each row of values for the second matrix, separating each value with commas\n"
     ]
    },
    {
     "name": "stdin",
     "output_type": "stream",
     "text": [
      " 1, 2\n",
      " 1, 2\n"
     ]
    },
    {
     "name": "stdout",
     "output_type": "stream",
     "text": [
      "[[2, 4], [2, 4]]\n",
      "Input dimensions of the matricies in 'x' format (Ex: 2x3)\n"
     ]
    },
    {
     "name": "stdin",
     "output_type": "stream",
     "text": [
      " exit\n"
     ]
    },
    {
     "name": "stdout",
     "output_type": "stream",
     "text": [
      "Returning to mainpage.\n"
     ]
    }
   ],
   "source": [
    "def mad():\n",
    "    print('Performing matrix addition. Type \"exit\" at any time to quit')\n",
    "    while True:\n",
    "        print(\"Input dimensions of the matricies in 'x' format (Ex: 2x3)\")\n",
    "        dimensions = input()\n",
    "        if dimension_validation(dimensions):\n",
    "            a = get_dimension_a(dimensions)\n",
    "            b = get_dimension_b(dimensions)\n",
    "            i = 1\n",
    "            matrix_1 = []\n",
    "            print(\"Input each row of values, separating each value with commas (Ex: 1, 2, 3, 4)\")\n",
    "            while i <= a:\n",
    "                row = input()\n",
    "                if row.replace(\" \", \"\").lower() == \"exit\":\n",
    "                    print('Function Cancled. Type \"exit\" to return to mainpage')\n",
    "                    break\n",
    "                matrix_row = make_matrix_row(row)\n",
    "                matrix_1.append(matrix_row)\n",
    "                i = i + 1\n",
    "            if validate_matrix(matrix_1, a, b):\n",
    "                print(\"Input each row of values for the second matrix, separating each value with commas\")\n",
    "                matrix_2 = []\n",
    "                i = 1\n",
    "                while i <= a:\n",
    "                    row = input()\n",
    "                    if row.replace(\" \", \"\").lower() == \"exit\":\n",
    "                        print('Function Cancled. Type \"exit\" to return to mainpage')\n",
    "                        break\n",
    "                    matrix_row = make_matrix_row(row)\n",
    "                    matrix_2.append(matrix_row)\n",
    "                    i = i + 1\n",
    "                if validate_matrix(matrix_2, a, b):\n",
    "                    matrix_3 = matrix_addition(matrix_1, matrix_2)\n",
    "                    print(matrix_3)\n",
    "                else:\n",
    "                    print(\"Invalid inputs. Dimensions do not match the input\")\n",
    "            else:\n",
    "                print(\"Invalid inputs. DImensions do not match the input\")\n",
    "        elif dimensions.replace(\" \", \"\").lower() == \"exit\":\n",
    "            print(\"Returning to mainpage.\")\n",
    "            break\n",
    "        else:\n",
    "            print('Invalid dimension input. Try again or type \"exit\" to quit')\n",
    "\n",
    "print(\"Input code: \")\n",
    "code = input()\n",
    "if code == \"mad\":\n",
    "    mad()"
   ]
  },
  {
   "cell_type": "code",
   "execution_count": null,
   "id": "bcfeba94-7512-4b28-b7f9-f61a6cab29d0",
   "metadata": {},
   "outputs": [],
   "source": [
    "def msb():\n",
    "    print('Performing matrix subtraction. Type \"exit\" at any time to quit')\n",
    "    while True:\n",
    "        print(\"Input dimensions of the matricies in 'x' format (Ex: 2x3)\")\n",
    "        \n",
    "        dimensions = input()\n",
    "        if dimension_validation(dimensions):\n",
    "            a = get_dimension_a(dimensions)\n",
    "            b = get_dimension_b(dimensions)\n",
    "            i = 1\n",
    "            matrix_1 = []\n",
    "            print(\"Input each row of values, separating each value with commas (Ex: 1, 2, 3, 4)\")\n",
    "            while i <= a:\n",
    "                row = input()\n",
    "                if row.replace(\" \", \"\").lower() == \"exit\":\n",
    "                    print('Function Cancled. Type \"exit\" to return to mainpage')\n",
    "                    break\n",
    "                matrix_row = make_matrix_row(row)\n",
    "                matrix_1.append(matrix_row)\n",
    "                i = i + 1\n",
    "            if validate_matrix(matrix_1, a, b):\n",
    "                print(\"Input each row of values for the second matrix, separating each value with commas\")\n",
    "                matrix_2 = []\n",
    "                i = 1\n",
    "                while i <= a:\n",
    "                    row = input()\n",
    "                    if row.replace(\" \", \"\").lower() == \"exit\":\n",
    "                        print('Function Cancled. Type \"exit\" to return to mainpage')\n",
    "                        break\n",
    "                    matrix_row = make_matrix_row(row)\n",
    "                    matrix_2.append(matrix_row)\n",
    "                    i = i + 1\n",
    "                if validate_matrix(matrix_2, a, b):\n",
    "                    matrix_3 = matrix_subtraction(matrix_1, matrix_2)\n",
    "                    print(matrix_3)\n",
    "                else:\n",
    "                    print(\"Invalid inputs. Dimensions do not match the input\")\n",
    "            else:\n",
    "                print(\"Invalid inputs. DImensions do not match the input\")\n",
    "        elif dimensions.replace(\" \", \"\").lower() == \"exit\":\n",
    "            print(\"Returning to mainpage.\")\n",
    "            break\n",
    "        else:\n",
    "            print('Invalid dimension input. Try again or type \"exit\" to quit')\n",
    "\n",
    "print(\"Input code: \")\n",
    "code = input()\n",
    "if code == \"msb\":\n",
    "    msb()"
   ]
  },
  {
   "cell_type": "code",
   "execution_count": null,
   "id": "40bce230-3bbf-4bec-86ff-0756c76a0dd6",
   "metadata": {},
   "outputs": [],
   "source": [
    "def mmp():\n",
    "    print('Performing matrix multiplication. Type \"exit\" at any time to quit')\n",
    "    while True:\n",
    "        print(\"Input dimensions of the first matrix in 'x' format (Ex: 2x3)\")\n",
    "        \n",
    "        dimensions_1 = input()\n",
    "        if dimension_validation(dimensions_1):\n",
    "            a1 = get_dimension_a(dimensions_1)\n",
    "            b1 = get_dimension_b(dimensions_1)\n",
    "    \n",
    "            print(\"Input dimensions of the second matrix\")\n",
    "            dimensions_2 = input()\n",
    "            if dimension_validation(dimensions_2):\n",
    "                a2 = get_dimension_a(dimensions_2)\n",
    "                b2 = get_dimension_b(dimensions_2)\n",
    "                if validate_multiplication_dimensions(a1, b1, a2, b2):\n",
    "                    i = 1\n",
    "                    matrix_1 = []\n",
    "                    print(\"Input each row of values for the first matrix, separating each value with commas (Ex: 1, 2, 3, 4)\")\n",
    "                    while i <= a1:\n",
    "                        row = input()\n",
    "                        if row.replace(\" \", \"\").lower() == \"exit\":\n",
    "                            print('Function Cancled. Type \"exit\" to return to mainpage')\n",
    "                            break\n",
    "                        matrix_row = make_matrix_row(row)\n",
    "                        matrix_1.append(matrix_row)\n",
    "                        i = i + 1\n",
    "                    if validate_matrix(matrix_1, a1, b1):\n",
    "                        print(\"Input each row of values for the second matrix, separating each value with commas\")\n",
    "                        matrix_2 = []\n",
    "                        i = 1\n",
    "                        while i <= a2:\n",
    "                            row = input()\n",
    "                            if row.replace(\" \", \"\").lower() == \"exit\":\n",
    "                                print('Function Cancled. Type \"exit\" to return to mainpage')\n",
    "                                break\n",
    "                            matrix_row = make_matrix_row(row)\n",
    "                            matrix_2.append(matrix_row)\n",
    "                            i = i + 1\n",
    "                        if validate_matrix(matrix_2, a2, b2):\n",
    "                            matrix_3 = matrix_multiplication(matrix_1, matrix_2)\n",
    "                            print(matrix_3)\n",
    "                        else:\n",
    "                            print(\"Invalid input. Dimensions do not match the input\")\n",
    "                    else:\n",
    "                        print(\"Invalid inputs. Dimensions do not match the input\")\n",
    "                else:\n",
    "                    print(\"Invalid dimensions for matrix multiplication\")\n",
    "            else:\n",
    "                print('Invalid dimension input. Try again or type \"exit\" to quit')\n",
    "        elif dimensions.replace(\" \", \"\").lower() == \"exit\":\n",
    "            print(\"Returning to mainpage.\")\n",
    "            break\n",
    "        else:\n",
    "            print('Invalid dimension input. Try again or type \"exit\" to quit')\n"
   ]
  },
  {
   "cell_type": "code",
   "execution_count": null,
   "id": "7829b76b-1927-4a5a-8b29-906c9f144384",
   "metadata": {},
   "outputs": [],
   "source": [
    "def inv():\n",
    "    print('Performing matrix inversion. Type \"exit\" at any time to quit')\n",
    "    while True:\n",
    "        print(\"Input dimensions of the matrix in 'x' format (Ex: 3x3)\")\n",
    "        \n",
    "        dimensions_1 = input()\n",
    "        if dimension_validation(dimensions_1):\n",
    "            a = get_dimension_a(dimensions_1)\n",
    "            b = get_dimension_b(dimensions_1)\n",
    "            \n",
    "            if a == b:\n",
    "                i = 1\n",
    "                matrix_1 = []\n",
    "                print(\"Input each row of values for the first matrix, separating each value with commas (Ex: 1, 2, 3, 4)\")\n",
    "                while i <= a:\n",
    "                    row = input()\n",
    "                    if row.replace(\" \", \"\").lower() == \"exit\":\n",
    "                        print('Function Cancled. Type \"exit\" to return to mainpage')\n",
    "                        break\n",
    "                    matrix_row = make_matrix_row(row)\n",
    "                    matrix_1.append(matrix_row)\n",
    "                    i = i + 1\n",
    "                if validate_matrix(matrix_1, a, b):\n",
    "                    matrix_2 = matrix_inverse(matrix_1)\n",
    "                    print(matrix_2)\n",
    "                else:\n",
    "                    print(\"Invalid inputs. Matrix does not match given dimensions\")\n",
    "            else:\n",
    "                print(\"Invalid input. Must be a square matrix (Ex: 2x2, 3x3 . . .)\")\n",
    "        else:\n",
    "            print('Invalid dimension input. Try again or type \"exit\" to quit')\n",
    "        elif dimensions.replace(\" \", \"\").lower() == \"exit\":\n",
    "            print(\"Returning to mainpage.\")\n",
    "            break"
   ]
  },
  {
   "cell_type": "code",
   "execution_count": null,
   "id": "009de23e-ffba-4113-b8e0-2ee02911df24",
   "metadata": {},
   "outputs": [],
   "source": [
    "def eig():\n",
    "    print('Solving for eigenvalues and characteristic equations. Type \"exit\" at any time to quit')\n",
    "    while True:\n",
    "        print(\"Input dimensions of the matrix in 'x' format (Ex: 3x3)\")\n",
    "\n",
    "        dimensions_1 = input()\n",
    "        if dimension_validation(dimensions_1):\n",
    "            a = get_dimension_a(dimensions_1)\n",
    "            b = get_dimension_b(dimensions_1)\n",
    "            \n",
    "            if a == b:\n",
    "                i = 1\n",
    "                matrix_1 = []\n",
    "                print(\"Input each row of values for the first matrix, separating each value with commas (Ex: 1, 2, 3, 4)\")\n",
    "                while i <= a:\n",
    "                    row = input()\n",
    "                    if row.replace(\" \", \"\").lower() == \"exit\":\n",
    "                        print('Function Cancled. Type \"exit\" to return to mainpage')\n",
    "                        break\n",
    "                    matrix_row = make_matrix_row(row)\n",
    "                    matrix_1.append(matrix_row)\n",
    "                    i = i + 1\n",
    "                if validate_matrix(matrix_1, a, b):\n",
    "                    eigen_profile = eigen(matrix_1)\n",
    "                    print(eigen_profile)\n",
    "                else:\n",
    "                    print(\"Invalid inputs. Matrix does not match given dimensions\")\n",
    "            else:\n",
    "                print(\"Invalid input. Must be a square matrix (Ex: 2x2, 3x3 . . .)\")\n",
    "        else:\n",
    "            print('Invalid dimension input. Try again or type \"exit\" to quit')\n",
    "        elif dimensions.replace(\" \", \"\").lower() == \"exit\":\n",
    "            print(\"Returning to mainpage.\")\n",
    "            break\n",
    "    break\n",
    "            "
   ]
  },
  {
   "cell_type": "code",
   "execution_count": null,
   "id": "7e007abf-8233-40c6-bbe9-fc51d24fa967",
   "metadata": {},
   "outputs": [],
   "source": [
    "def help():\n",
    "    print(\"Matrix Addition: mad\")\n",
    "    print(\"Matrix Subtraction: msb\")\n",
    "    print(\"Matrix Multiplication: mmp\")\n",
    "    print(\"Scalars of Matricies: mad\")\n",
    "    print(\"Matrix Inverses: inv\")\n",
    "    print(\"Eigen Profile: eig\")"
   ]
  },
  {
   "cell_type": "code",
   "execution_count": 49,
   "id": "024bfb3c-7c33-4990-a845-c23733ed7525",
   "metadata": {},
   "outputs": [
    {
     "name": "stdout",
     "output_type": "stream",
     "text": [
      "Welcome to the matrix operation section.\n",
      "You can type \"exit\" to quit or \"help\" for the list of usable codes\n",
      "Input function code: \n"
     ]
    },
    {
     "name": "stdin",
     "output_type": "stream",
     "text": [
      " mad\n"
     ]
    },
    {
     "name": "stdout",
     "output_type": "stream",
     "text": [
      "Performing matrix addition. Type \"exit\" at any time to quit\n",
      "Input dimensions of the matricies in 'x' format (Ex: 2x3)\n"
     ]
    },
    {
     "name": "stdin",
     "output_type": "stream",
     "text": [
      " exit\n"
     ]
    },
    {
     "name": "stdout",
     "output_type": "stream",
     "text": [
      "Returning to mainpage.\n"
     ]
    },
    {
     "name": "stdin",
     "output_type": "stream",
     "text": [
      " mad\n"
     ]
    },
    {
     "name": "stdout",
     "output_type": "stream",
     "text": [
      "Performing matrix addition. Type \"exit\" at any time to quit\n",
      "Input dimensions of the matricies in 'x' format (Ex: 2x3)\n"
     ]
    },
    {
     "name": "stdin",
     "output_type": "stream",
     "text": [
      " exit\n"
     ]
    },
    {
     "name": "stdout",
     "output_type": "stream",
     "text": [
      "Returning to mainpage.\n"
     ]
    },
    {
     "name": "stdin",
     "output_type": "stream",
     "text": [
      " mad\n"
     ]
    },
    {
     "name": "stdout",
     "output_type": "stream",
     "text": [
      "Performing matrix addition. Type \"exit\" at any time to quit\n",
      "Input dimensions of the matricies in 'x' format (Ex: 2x3)\n"
     ]
    },
    {
     "name": "stdin",
     "output_type": "stream",
     "text": [
      " exit\n"
     ]
    },
    {
     "name": "stdout",
     "output_type": "stream",
     "text": [
      "Returning to mainpage.\n"
     ]
    },
    {
     "name": "stdin",
     "output_type": "stream",
     "text": [
      " exit\n"
     ]
    },
    {
     "name": "stdout",
     "output_type": "stream",
     "text": [
      "Exiting the program.\n"
     ]
    }
   ],
   "source": [
    "def matrix_operations():\n",
    "    print(\"Welcome to the matrix operation section.\")\n",
    "    print('You can type \"exit\" to quit or \"help\" for the list of usable codes')\n",
    "    print(\"Input function code: \")\n",
    "    \n",
    "    while True:\n",
    "        arg = input()\n",
    "        arg = arg.replace(\" \", \"\").lower()\n",
    "        if arg == \"exit\":\n",
    "            print(\"Exiting the program.\")\n",
    "            break\n",
    "        \n",
    "        elif arg == \"help\":\n",
    "            help()\n",
    "    \n",
    "        elif arg == \"mad\":\n",
    "            mad()\n",
    "    \n",
    "        elif arg == \"msb\":\n",
    "            msb()\n",
    "    \n",
    "        elif arg == \"mmp\":\n",
    "            mmp()\n",
    "        \n",
    "        elif arg == \"inv\":\n",
    "            inv()\n",
    "            \n",
    "        elif arg == \"eig\":\n",
    "            eig()\n",
    "        "
   ]
  },
  {
   "cell_type": "code",
   "execution_count": null,
   "id": "80ccfb7c-8098-480c-af4d-4364099c04d0",
   "metadata": {},
   "outputs": [],
   "source": []
  }
 ],
 "metadata": {
  "kernelspec": {
   "display_name": "Python 3 (ipykernel)",
   "language": "python",
   "name": "python3"
  },
  "language_info": {
   "codemirror_mode": {
    "name": "ipython",
    "version": 3
   },
   "file_extension": ".py",
   "mimetype": "text/x-python",
   "name": "python",
   "nbconvert_exporter": "python",
   "pygments_lexer": "ipython3",
   "version": "3.9.2"
  }
 },
 "nbformat": 4,
 "nbformat_minor": 5
}
